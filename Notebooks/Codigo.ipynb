{
 "cells": [
  {
   "cell_type": "markdown",
   "metadata": {
    "id": "kDPdTmsyPXZV"
   },
   "source": [
    "<div style=\"display: flex; justify-content: center; align-items: center;\">\n",
    "<p align=\"center\">\n",
    "<img src=\"../Imagens/Capa_codigo.jpg\" style=\"width:250px;height:250px\" alt='imagem do daniel'>\n",
    "</p>\n",
    "\n",
    "<div style=\"margin-left: 20px;\">\n",
    "<h1 style=\"font-family: times new roman;\">DreamCoders</h1>\n",
    "<p style=\"margin-bottom: 5px;\">Trabalho Final de Redes Neurais</p>\n",
    "<p style=\"margin-bottom: 5px;\">INTEGRANTES: Eric Leandro e Samuel Araujo </p>\n",
    "<p style=\"margin-bottom: 5px;\">DISCIPLINA: Redes Neurais e Algoritmos Genéticos</p>\n",
    "<p style=\"margin-bottom: 5px;\">MESTRE: Daniel Cassar</p>\n",
    "\n",
    "</div>\n",
    "\n",
    "\n"
   ]
  },
  {
   "cell_type": "markdown",
   "metadata": {},
   "source": [
    "# **Introdução**"
   ]
  },
  {
   "cell_type": "markdown",
   "metadata": {},
   "source": [
    "## Contextualização"
   ]
  },
  {
   "cell_type": "markdown",
   "metadata": {},
   "source": [
    "A Ciência de Materiais é uma área vasta que abrange uma grande quantidade de áreas da ciência, desde físico-química até as biociências. O desenvolvimento da Ciência de Materiais é de suma importância para o descobrimento e aperfeiçoamento de materiais para as mais diversas aplicações nos setores da indústria e, dessa forma, permitndo o avanço de diversas tecnologias que imapactam o dia a dia de toda a humanidade seja diretamente ou indiretamente. Tendo como uma parte muito importante para as pesquisas em materiais o entendimento das características/propriedades intrísecas de cada material, através delas é possível prever e entender como aplicar o material ou aperfeiçoa-lo.\n",
    "\n",
    "Com o advento da ciência de dados, foi possível avanços mais rápidos na descoberta e caracterização dos materiais, tornando-se uma parte fundamental no avanço da ciência de materiais. Dentro da área de dados, existem diversas técnicas de previsão de características de materiais, sendo comum a aplicação de algoritimos genéticos para otimizações dos mais diversos tipos.\n",
    "\n",
    "Os algoritmos genéticos são uma técnica inspirada no funcionamento da evolução, usando de processos/conceitos bem conhecidos na biologia de forma adaptada. Tendo como ideia fundamental a seleção dos inidivíduos mais aptos a cada geração de indivíduos, onde cada geração aplica operadores para aumentar a variabilidade genética, tudo isso com o intuito de na população final haver os melhores indivíduos, ou seja, as melhores características.\n",
    "\n",
    "Conceitos fundamentais:\n",
    "\n",
    "- Gene -> Características específica;\n",
    "- Indivíduo -> Conjunto de genes específico;\n",
    "- População -> Conjunto de indivíduos;\n",
    "- Geração -> Cada ninhada de população ao decorrer da passagem de genes;\n",
    "- Seleção -> Filtro para selecionar os indivíduos de interesse;\n",
    "- Operadores -> Formas, no caso funções, que alteram os genes dos indivíduos a cada geração com o intuito de alcançar uma população melhor."
   ]
  },
  {
   "cell_type": "markdown",
   "metadata": {},
   "source": [
    "## Objetivo"
   ]
  },
  {
   "cell_type": "markdown",
   "metadata": {},
   "source": [
    "O projeto consiste na aplicação de um algoritmo genético para criação de possíveis materiais com alta resistência e baixa densidade para confecção de uma armadura. Para isso, foi criado uma função objetivo que levasse em conta as propriedades ligadas a resistência e a densidade para pontuar o quão bom é o material. Com o intuito de validar se os materiais da população final possuem propriedades semelhantes, por meio do cálculo da distância de Manhattan, aos materiais reais do dataset base. Vale ressaltar que não faz parte do escopo do projeto se aprofundar nos aspectos técnicos, sendo necessário, para isso, a leitura das referências bibliográficas."
   ]
  },
  {
   "cell_type": "markdown",
   "metadata": {},
   "source": [
    "# Dados "
   ]
  },
  {
   "cell_type": "markdown",
   "metadata": {},
   "source": [
    "O Dataset base contém 1.552 materiais com as suas propriedades mecânicas, totalizando 15 propriedades relacionadas. No entanto, por conta de algumas linhas possuírem valores NaN, foi optado por considerar apenas as colunas completamente preenchidas e que não possuíam strings, sendo elas:\n",
    "\n",
    "- Ultimate Tensile Strength/Su (MPa) -> É a tensão máxima que um material pode suportar antes de se romper quando submetido a um esforço de tração. Em outras palavras, é o ponto máximo no gráfico tensão-deformação de um teste de tração // Indica a resistência máxima do material antes da falha e é crucial para projetar componentes que serão submetidos a forças de tração;\n",
    "\n",
    "- Yield Strength/Sy (MPa) -> É a tensão na qual um material começa a deformar plasticamente. Antes deste ponto, o material se deforma elasticamente (ou seja, volta à forma original quando a carga é removida). Após esse ponto, a deformação será permanente // É vital para determinar a carga máxima que um material pode suportar sem deformação permanente, essencial para garantir a segurança e integridade estrutural;\n",
    "\n",
    "- Elastic Modulus/E (MPa) -> Também conhecido como Módulo de Young, é uma medida da rigidez de um material. Representa a relação entre a tensão (força aplicada por unidade de área) e a deformação elástica (alongamento) na região linear do gráfico tensão-deformação //  Indica a rigidez de um material. Materiais com um módulo de elasticidade alto são mais rígidos e menos propensos a deformar sob carga;\n",
    "\n",
    "- Shear Modulus/S (MPa) -> É a medida da rigidez de um material em resposta a tensões de cisalhamento. Representa a relação entre a tensão de cisalhamento aplicada e a deformação resultante // Fundamental para entender como um material se comporta sob forças que causam deslizamento interno das camadas de material;\n",
    "\n",
    "- Density/Ro (MPa) -> É a massa por unidade de volume de um material. Embora a unidade correta no Sistema Internacional (SI) seja kg/m³, a densidade às vezes é listada erroneamente como MPa //  Crucial para determinar o peso de um componente feito do material em questão, o que influencia o projeto e a aplicação prática do material."
   ]
  },
  {
   "cell_type": "markdown",
   "metadata": {},
   "source": [
    "# **Metadologia**"
   ]
  },
  {
   "cell_type": "markdown",
   "metadata": {},
   "source": [
    "Para alcançar o objetivo do trabalho de forma plena, foi realizado uma série de etapas: \n",
    "\n",
    "- Primeiro, a manipulação dos dados partindo da transformação dos dados de csv para o formato dataframe seguido do tratamento desses dataframes a partir da exploração dos mesmos, permitindo, assim, filtrar as features relevantes para a função objetivo;\n",
    "- Depois, foi criada uma função objetivo com as features relevantes e os pesos dela foram determinados de forma arbitrária com base na influência de cada propriedade;\n",
    "- Ainda em relação às definições, definimos o tamanho da população, número de gerações, taxa de cruzamento e taxa de mutação;\n",
    "- Após a criação da função objetivo, foi criada uma população inicial artificial, levando em conta os máximos e mínimos de cada propriedade dos materiais do dataset e com um filtro para não criação de indivíduos com uma pontuação melhor que a melhor material do dataset original, assim, evitando materiais instáveis;\n",
    "- No uso dos operadores, foram feitas alterações na mutação sucessiva e no cruzamento para que não houvesse a criação de indivíduos com uma pontuação na função objetivo melhor que o melhor material do dataset base, dessa forma, evitando a criação de \"super materiais\" inviáveis;\n",
    "- Após a criação do algoritmo, aplicamos ele para a criação de uma população com possíveis candidatos a materiais ótimos estáveis.\n",
    "- Por fim, para filtrar os materiais realmente viáveis, foi calculado a distância Manhattan entre cada indivíduo da população final em relação aos materiais reais do dataset base."
   ]
  },
  {
   "cell_type": "markdown",
   "metadata": {},
   "source": [
    "# **Código**"
   ]
  },
  {
   "cell_type": "markdown",
   "metadata": {
    "id": "s3BaMIr1Yysk"
   },
   "source": [
    "## Bibliotecas e Módulos Python"
   ]
  },
  {
   "cell_type": "markdown",
   "metadata": {},
   "source": [
    "- Pandas -> Manipulação do dataset, incluindo a exploração e tratamento;\n",
    "- Random -> Geração de valores semialeatórios;\n",
    "- Statistics -> Cálculos e analises estatistícas."
   ]
  },
  {
   "cell_type": "code",
   "execution_count": 1,
   "metadata": {
    "id": "ZLUsZpBdYvLV"
   },
   "outputs": [],
   "source": [
    "'''IMPORTS'''\n",
    "\n",
    "import pandas as pd\n",
    "import statistics as st\n",
    "import random as rd"
   ]
  },
  {
   "cell_type": "markdown",
   "metadata": {},
   "source": [
    "## Função distância Manhattan"
   ]
  },
  {
   "cell_type": "markdown",
   "metadata": {},
   "source": [
    "A distância Manhattan é uma medida de distância em um espaço com uma grade retangular (como uma cidade com ruas ortogonais). Ela é calculada somando as diferenças absolutas das coordenadas dos pontos. Matematicamente, para dois pontos $ A(x_1, y_1) $ e $ B(x_2, y_2) $, a distância Manhattan é dada por:\n",
    "\n",
    "$$\n",
    "D = |x_1 - x_2| + |y_1 - y_2|\n",
    "$$\n",
    "\n",
    "Ela é uma forma decente de calcular ditância quando os vetores possuem mais que 3 dimensões.\n"
   ]
  },
  {
   "cell_type": "code",
   "execution_count": 2,
   "metadata": {},
   "outputs": [],
   "source": [
    "'''Funções'''\n",
    "def distancia_manhattan(populacao, df):\n",
    "    \"\"\"\n",
    "    Calcula a distância de Manhattan entre cada indivíduo da população e cada linha do DataFrame.\n",
    "\n",
    "    Parâmetros:\n",
    "    populacao (list): Lista de indivíduos da última população.\n",
    "    df (DataFrame): DataFrame contendo os dados originais.\n",
    "\n",
    "    Retorna:\n",
    "    list: Lista de listas, onde cada sub-lista contém as distâncias de Manhattan de um indivíduo para cada linha do DataFrame.\n",
    "    \"\"\"\n",
    "    distancias = []\n",
    "\n",
    "    # Itera sobre cada indivíduo na população\n",
    "    for individuo in populacao:\n",
    "        distancias_individuo = []\n",
    "\n",
    "        # Itera sobre cada linha do DataFrame\n",
    "        for i in range(len(df)):\n",
    "            # Converte a linha i do DataFrame para uma lista\n",
    "            linha = df.loc[i].tolist()\n",
    "            \n",
    "            # Calcula a distância de Manhattan\n",
    "            distancia = sum(abs(individuo[j] - linha[j]) for j in range(len(individuo)))\n",
    "            distancias_individuo.append(distancia)\n",
    "\n",
    "        distancias.append(distancias_individuo)\n",
    "\n",
    "    return distancias\n"
   ]
  },
  {
   "cell_type": "markdown",
   "metadata": {
    "id": "3SEM5HBJY5MU"
   },
   "source": [
    "## Manipulando dados"
   ]
  },
  {
   "cell_type": "markdown",
   "metadata": {},
   "source": [
    "Abaixo, importamos o arquivo csv do dataset original e tranformamos em dataframe."
   ]
  },
  {
   "cell_type": "code",
   "execution_count": 3,
   "metadata": {
    "colab": {
     "base_uri": "https://localhost:8080/",
     "height": 721
    },
    "id": "kxq3P1BBPH_d",
    "outputId": "fe69a6a9-847c-431b-9195-4aadc5e82b97"
   },
   "outputs": [
    {
     "data": {
      "text/html": [
       "<div>\n",
       "<style scoped>\n",
       "    .dataframe tbody tr th:only-of-type {\n",
       "        vertical-align: middle;\n",
       "    }\n",
       "\n",
       "    .dataframe tbody tr th {\n",
       "        vertical-align: top;\n",
       "    }\n",
       "\n",
       "    .dataframe thead th {\n",
       "        text-align: right;\n",
       "    }\n",
       "</style>\n",
       "<table border=\"1\" class=\"dataframe\">\n",
       "  <thead>\n",
       "    <tr style=\"text-align: right;\">\n",
       "      <th></th>\n",
       "      <th>Std</th>\n",
       "      <th>ID</th>\n",
       "      <th>Material</th>\n",
       "      <th>Heat treatment</th>\n",
       "      <th>Su</th>\n",
       "      <th>Sy</th>\n",
       "      <th>A5</th>\n",
       "      <th>Bhn</th>\n",
       "      <th>E</th>\n",
       "      <th>G</th>\n",
       "      <th>mu</th>\n",
       "      <th>Ro</th>\n",
       "      <th>pH</th>\n",
       "      <th>Desc</th>\n",
       "      <th>HV</th>\n",
       "    </tr>\n",
       "  </thead>\n",
       "  <tbody>\n",
       "    <tr>\n",
       "      <th>0</th>\n",
       "      <td>ANSI</td>\n",
       "      <td>D8894772B88F495093C43AF905AB6373</td>\n",
       "      <td>Steel SAE 1015</td>\n",
       "      <td>as-rolled</td>\n",
       "      <td>421</td>\n",
       "      <td>314</td>\n",
       "      <td>39.0</td>\n",
       "      <td>126.0</td>\n",
       "      <td>207000</td>\n",
       "      <td>79000</td>\n",
       "      <td>0.30</td>\n",
       "      <td>7860</td>\n",
       "      <td>NaN</td>\n",
       "      <td>NaN</td>\n",
       "      <td>NaN</td>\n",
       "    </tr>\n",
       "    <tr>\n",
       "      <th>1</th>\n",
       "      <td>ANSI</td>\n",
       "      <td>05982AC66F064F9EBC709E7A4164613A</td>\n",
       "      <td>Steel SAE 1015</td>\n",
       "      <td>normalized</td>\n",
       "      <td>424</td>\n",
       "      <td>324</td>\n",
       "      <td>37.0</td>\n",
       "      <td>121.0</td>\n",
       "      <td>207000</td>\n",
       "      <td>79000</td>\n",
       "      <td>0.30</td>\n",
       "      <td>7860</td>\n",
       "      <td>NaN</td>\n",
       "      <td>NaN</td>\n",
       "      <td>NaN</td>\n",
       "    </tr>\n",
       "    <tr>\n",
       "      <th>2</th>\n",
       "      <td>ANSI</td>\n",
       "      <td>356D6E63FF9A49A3AB23BF66BAC85DC3</td>\n",
       "      <td>Steel SAE 1015</td>\n",
       "      <td>annealed</td>\n",
       "      <td>386</td>\n",
       "      <td>284</td>\n",
       "      <td>37.0</td>\n",
       "      <td>111.0</td>\n",
       "      <td>207000</td>\n",
       "      <td>79000</td>\n",
       "      <td>0.30</td>\n",
       "      <td>7860</td>\n",
       "      <td>NaN</td>\n",
       "      <td>NaN</td>\n",
       "      <td>NaN</td>\n",
       "    </tr>\n",
       "    <tr>\n",
       "      <th>3</th>\n",
       "      <td>ANSI</td>\n",
       "      <td>1C758F8714AC4E0D9BD8D8AE1625AECD</td>\n",
       "      <td>Steel SAE 1020</td>\n",
       "      <td>as-rolled</td>\n",
       "      <td>448</td>\n",
       "      <td>331</td>\n",
       "      <td>36.0</td>\n",
       "      <td>143.0</td>\n",
       "      <td>207000</td>\n",
       "      <td>79000</td>\n",
       "      <td>0.30</td>\n",
       "      <td>7860</td>\n",
       "      <td>NaN</td>\n",
       "      <td>NaN</td>\n",
       "      <td>NaN</td>\n",
       "    </tr>\n",
       "    <tr>\n",
       "      <th>4</th>\n",
       "      <td>ANSI</td>\n",
       "      <td>DCE10036FC1946FC8C9108D598D116AD</td>\n",
       "      <td>Steel SAE 1020</td>\n",
       "      <td>normalized</td>\n",
       "      <td>441</td>\n",
       "      <td>346</td>\n",
       "      <td>35.8</td>\n",
       "      <td>131.0</td>\n",
       "      <td>207000</td>\n",
       "      <td>79000</td>\n",
       "      <td>0.30</td>\n",
       "      <td>7860</td>\n",
       "      <td>550.0</td>\n",
       "      <td>NaN</td>\n",
       "      <td>NaN</td>\n",
       "    </tr>\n",
       "    <tr>\n",
       "      <th>...</th>\n",
       "      <td>...</td>\n",
       "      <td>...</td>\n",
       "      <td>...</td>\n",
       "      <td>...</td>\n",
       "      <td>...</td>\n",
       "      <td>...</td>\n",
       "      <td>...</td>\n",
       "      <td>...</td>\n",
       "      <td>...</td>\n",
       "      <td>...</td>\n",
       "      <td>...</td>\n",
       "      <td>...</td>\n",
       "      <td>...</td>\n",
       "      <td>...</td>\n",
       "      <td>...</td>\n",
       "    </tr>\n",
       "    <tr>\n",
       "      <th>1547</th>\n",
       "      <td>JIS</td>\n",
       "      <td>512A80EC21EA416BA2725B38BA8096EF</td>\n",
       "      <td>Nodular cast iron</td>\n",
       "      <td>NaN</td>\n",
       "      <td>600</td>\n",
       "      <td>370</td>\n",
       "      <td>NaN</td>\n",
       "      <td>NaN</td>\n",
       "      <td>169000</td>\n",
       "      <td>70000</td>\n",
       "      <td>0.20</td>\n",
       "      <td>7160</td>\n",
       "      <td>480.0</td>\n",
       "      <td>Nodular cast iron</td>\n",
       "      <td>210.0</td>\n",
       "    </tr>\n",
       "    <tr>\n",
       "      <th>1548</th>\n",
       "      <td>JIS</td>\n",
       "      <td>38526441BA8741CA979DBF870D0B8A9B</td>\n",
       "      <td>Nodular cast iron</td>\n",
       "      <td>NaN</td>\n",
       "      <td>700</td>\n",
       "      <td>420</td>\n",
       "      <td>NaN</td>\n",
       "      <td>NaN</td>\n",
       "      <td>169000</td>\n",
       "      <td>70000</td>\n",
       "      <td>0.20</td>\n",
       "      <td>7160</td>\n",
       "      <td>560.0</td>\n",
       "      <td>Nodular cast iron</td>\n",
       "      <td>230.0</td>\n",
       "    </tr>\n",
       "    <tr>\n",
       "      <th>1549</th>\n",
       "      <td>JIS</td>\n",
       "      <td>CAC03D7EB1AA45E68EFF92A2EF4C3D9B</td>\n",
       "      <td>Nodular cast iron</td>\n",
       "      <td>NaN</td>\n",
       "      <td>800</td>\n",
       "      <td>480</td>\n",
       "      <td>NaN</td>\n",
       "      <td>NaN</td>\n",
       "      <td>169000</td>\n",
       "      <td>70000</td>\n",
       "      <td>0.20</td>\n",
       "      <td>7160</td>\n",
       "      <td>600.0</td>\n",
       "      <td>Nodular cast iron</td>\n",
       "      <td>240.0</td>\n",
       "    </tr>\n",
       "    <tr>\n",
       "      <th>1550</th>\n",
       "      <td>JIS</td>\n",
       "      <td>45C82A36EC644F8BB6170A99ED819B62</td>\n",
       "      <td>Malleable cast iron</td>\n",
       "      <td>NaN</td>\n",
       "      <td>400</td>\n",
       "      <td>180</td>\n",
       "      <td>4.0</td>\n",
       "      <td>NaN</td>\n",
       "      <td>160000</td>\n",
       "      <td>64000</td>\n",
       "      <td>0.27</td>\n",
       "      <td>7160</td>\n",
       "      <td>300.0</td>\n",
       "      <td>Malleable cast iron</td>\n",
       "      <td>220.0</td>\n",
       "    </tr>\n",
       "    <tr>\n",
       "      <th>1551</th>\n",
       "      <td>JIS</td>\n",
       "      <td>BC74F870412F4DDBADDEF1063C1C079F</td>\n",
       "      <td>Malleable cast iron</td>\n",
       "      <td>NaN</td>\n",
       "      <td>500</td>\n",
       "      <td>260</td>\n",
       "      <td>4.0</td>\n",
       "      <td>NaN</td>\n",
       "      <td>160000</td>\n",
       "      <td>64000</td>\n",
       "      <td>0.27</td>\n",
       "      <td>7160</td>\n",
       "      <td>370.0</td>\n",
       "      <td>Malleable cast iron</td>\n",
       "      <td>230.0</td>\n",
       "    </tr>\n",
       "  </tbody>\n",
       "</table>\n",
       "<p>1552 rows × 15 columns</p>\n",
       "</div>"
      ],
      "text/plain": [
       "       Std                                ID             Material  \\\n",
       "0     ANSI  D8894772B88F495093C43AF905AB6373       Steel SAE 1015   \n",
       "1     ANSI  05982AC66F064F9EBC709E7A4164613A       Steel SAE 1015   \n",
       "2     ANSI  356D6E63FF9A49A3AB23BF66BAC85DC3       Steel SAE 1015   \n",
       "3     ANSI  1C758F8714AC4E0D9BD8D8AE1625AECD       Steel SAE 1020   \n",
       "4     ANSI  DCE10036FC1946FC8C9108D598D116AD       Steel SAE 1020   \n",
       "...    ...                               ...                  ...   \n",
       "1547   JIS  512A80EC21EA416BA2725B38BA8096EF    Nodular cast iron   \n",
       "1548   JIS  38526441BA8741CA979DBF870D0B8A9B    Nodular cast iron   \n",
       "1549   JIS  CAC03D7EB1AA45E68EFF92A2EF4C3D9B    Nodular cast iron   \n",
       "1550   JIS  45C82A36EC644F8BB6170A99ED819B62  Malleable cast iron   \n",
       "1551   JIS  BC74F870412F4DDBADDEF1063C1C079F  Malleable cast iron   \n",
       "\n",
       "     Heat treatment   Su   Sy    A5    Bhn       E      G    mu    Ro     pH  \\\n",
       "0         as-rolled  421  314  39.0  126.0  207000  79000  0.30  7860    NaN   \n",
       "1        normalized  424  324  37.0  121.0  207000  79000  0.30  7860    NaN   \n",
       "2          annealed  386  284  37.0  111.0  207000  79000  0.30  7860    NaN   \n",
       "3         as-rolled  448  331  36.0  143.0  207000  79000  0.30  7860    NaN   \n",
       "4        normalized  441  346  35.8  131.0  207000  79000  0.30  7860  550.0   \n",
       "...             ...  ...  ...   ...    ...     ...    ...   ...   ...    ...   \n",
       "1547            NaN  600  370   NaN    NaN  169000  70000  0.20  7160  480.0   \n",
       "1548            NaN  700  420   NaN    NaN  169000  70000  0.20  7160  560.0   \n",
       "1549            NaN  800  480   NaN    NaN  169000  70000  0.20  7160  600.0   \n",
       "1550            NaN  400  180   4.0    NaN  160000  64000  0.27  7160  300.0   \n",
       "1551            NaN  500  260   4.0    NaN  160000  64000  0.27  7160  370.0   \n",
       "\n",
       "                     Desc     HV  \n",
       "0                     NaN    NaN  \n",
       "1                     NaN    NaN  \n",
       "2                     NaN    NaN  \n",
       "3                     NaN    NaN  \n",
       "4                     NaN    NaN  \n",
       "...                   ...    ...  \n",
       "1547    Nodular cast iron  210.0  \n",
       "1548    Nodular cast iron  230.0  \n",
       "1549    Nodular cast iron  240.0  \n",
       "1550  Malleable cast iron  220.0  \n",
       "1551  Malleable cast iron  230.0  \n",
       "\n",
       "[1552 rows x 15 columns]"
      ]
     },
     "metadata": {},
     "output_type": "display_data"
    }
   ],
   "source": [
    "'''Pegando os dados'''\n",
    "\n",
    "# Carregando o arquivo CSV\n",
    "Materiais = pd.read_csv(\"../Dataset/Materiais.csv\")\n",
    "\n",
    "# Transformando o dataset em um Dataframe pandas\n",
    "df = pd.DataFrame(Materiais)\n",
    "\n",
    "# Mostrando o dataset\n",
    "display(df)"
   ]
  },
  {
   "cell_type": "markdown",
   "metadata": {},
   "source": [
    "Com o dataframe, retiramos as features que não se encaixavam nas demandas estabelecidas na parte dados, e tratamos a coluna Sy(Yield Strength), retirando as strings. Por fim, foi necessário a reindexação do dataframe."
   ]
  },
  {
   "cell_type": "code",
   "execution_count": 4,
   "metadata": {
    "colab": {
     "base_uri": "https://localhost:8080/",
     "height": 721
    },
    "id": "kLqDqervw9ry",
    "outputId": "0e2df22c-1e1f-40d4-9d71-6c00cd257671"
   },
   "outputs": [
    {
     "name": "stderr",
     "output_type": "stream",
     "text": [
      "C:\\Users\\samuel23018\\AppData\\Local\\Temp\\ipykernel_4072\\2449769712.py:10: SettingWithCopyWarning: \n",
      "A value is trying to be set on a copy of a slice from a DataFrame.\n",
      "Try using .loc[row_indexer,col_indexer] = value instead\n",
      "\n",
      "See the caveats in the documentation: https://pandas.pydata.org/pandas-docs/stable/user_guide/indexing.html#returning-a-view-versus-a-copy\n",
      "  df_limpo['Sy'] = df_limpo['Sy'].astype(int)\n"
     ]
    },
    {
     "data": {
      "text/html": [
       "<div>\n",
       "<style scoped>\n",
       "    .dataframe tbody tr th:only-of-type {\n",
       "        vertical-align: middle;\n",
       "    }\n",
       "\n",
       "    .dataframe tbody tr th {\n",
       "        vertical-align: top;\n",
       "    }\n",
       "\n",
       "    .dataframe thead th {\n",
       "        text-align: right;\n",
       "    }\n",
       "</style>\n",
       "<table border=\"1\" class=\"dataframe\">\n",
       "  <thead>\n",
       "    <tr style=\"text-align: right;\">\n",
       "      <th></th>\n",
       "      <th>Su</th>\n",
       "      <th>Sy</th>\n",
       "      <th>E</th>\n",
       "      <th>G</th>\n",
       "      <th>Ro</th>\n",
       "    </tr>\n",
       "  </thead>\n",
       "  <tbody>\n",
       "    <tr>\n",
       "      <th>0</th>\n",
       "      <td>421</td>\n",
       "      <td>314</td>\n",
       "      <td>207000</td>\n",
       "      <td>79000</td>\n",
       "      <td>7860</td>\n",
       "    </tr>\n",
       "    <tr>\n",
       "      <th>1</th>\n",
       "      <td>424</td>\n",
       "      <td>324</td>\n",
       "      <td>207000</td>\n",
       "      <td>79000</td>\n",
       "      <td>7860</td>\n",
       "    </tr>\n",
       "    <tr>\n",
       "      <th>2</th>\n",
       "      <td>386</td>\n",
       "      <td>284</td>\n",
       "      <td>207000</td>\n",
       "      <td>79000</td>\n",
       "      <td>7860</td>\n",
       "    </tr>\n",
       "    <tr>\n",
       "      <th>3</th>\n",
       "      <td>448</td>\n",
       "      <td>331</td>\n",
       "      <td>207000</td>\n",
       "      <td>79000</td>\n",
       "      <td>7860</td>\n",
       "    </tr>\n",
       "    <tr>\n",
       "      <th>4</th>\n",
       "      <td>441</td>\n",
       "      <td>346</td>\n",
       "      <td>207000</td>\n",
       "      <td>79000</td>\n",
       "      <td>7860</td>\n",
       "    </tr>\n",
       "    <tr>\n",
       "      <th>...</th>\n",
       "      <td>...</td>\n",
       "      <td>...</td>\n",
       "      <td>...</td>\n",
       "      <td>...</td>\n",
       "      <td>...</td>\n",
       "    </tr>\n",
       "    <tr>\n",
       "      <th>1539</th>\n",
       "      <td>600</td>\n",
       "      <td>370</td>\n",
       "      <td>169000</td>\n",
       "      <td>70000</td>\n",
       "      <td>7160</td>\n",
       "    </tr>\n",
       "    <tr>\n",
       "      <th>1540</th>\n",
       "      <td>700</td>\n",
       "      <td>420</td>\n",
       "      <td>169000</td>\n",
       "      <td>70000</td>\n",
       "      <td>7160</td>\n",
       "    </tr>\n",
       "    <tr>\n",
       "      <th>1541</th>\n",
       "      <td>800</td>\n",
       "      <td>480</td>\n",
       "      <td>169000</td>\n",
       "      <td>70000</td>\n",
       "      <td>7160</td>\n",
       "    </tr>\n",
       "    <tr>\n",
       "      <th>1542</th>\n",
       "      <td>400</td>\n",
       "      <td>180</td>\n",
       "      <td>160000</td>\n",
       "      <td>64000</td>\n",
       "      <td>7160</td>\n",
       "    </tr>\n",
       "    <tr>\n",
       "      <th>1543</th>\n",
       "      <td>500</td>\n",
       "      <td>260</td>\n",
       "      <td>160000</td>\n",
       "      <td>64000</td>\n",
       "      <td>7160</td>\n",
       "    </tr>\n",
       "  </tbody>\n",
       "</table>\n",
       "<p>1544 rows × 5 columns</p>\n",
       "</div>"
      ],
      "text/plain": [
       "       Su   Sy       E      G    Ro\n",
       "0     421  314  207000  79000  7860\n",
       "1     424  324  207000  79000  7860\n",
       "2     386  284  207000  79000  7860\n",
       "3     448  331  207000  79000  7860\n",
       "4     441  346  207000  79000  7860\n",
       "...   ...  ...     ...    ...   ...\n",
       "1539  600  370  169000  70000  7160\n",
       "1540  700  420  169000  70000  7160\n",
       "1541  800  480  169000  70000  7160\n",
       "1542  400  180  160000  64000  7160\n",
       "1543  500  260  160000  64000  7160\n",
       "\n",
       "[1544 rows x 5 columns]"
      ]
     },
     "metadata": {},
     "output_type": "display_data"
    }
   ],
   "source": [
    "\n",
    "'''Tratando dados'''\n",
    "\n",
    "# Retirando colunas desinteressantes\n",
    "df = df.drop(['Std', 'ID', 'Material', 'Heat treatment', 'A5', 'Bhn', 'pH', 'Desc', 'HV', 'mu'], axis=1)\n",
    "\n",
    "# Retirando linhas sem bons valores\n",
    "df_limpo = df.loc[(df['Sy'].str.endswith('x') == False)]\n",
    "\n",
    "# Convertendo str em int\n",
    "df_limpo['Sy'] = df_limpo['Sy'].astype(int)\n",
    "\n",
    "# Reajustando os index\n",
    "df_limpo = df_limpo.reset_index(drop=True)\n",
    "\n",
    "# Mostrando o dataset\n",
    "display(df_limpo)"
   ]
  },
  {
   "cell_type": "markdown",
   "metadata": {},
   "source": [
    "Na célula a seguir, passamos o dataframe para o formato de matriz com o intuito de facilitar as manipulações nos operadores do algoritmo genético"
   ]
  },
  {
   "cell_type": "code",
   "execution_count": 5,
   "metadata": {},
   "outputs": [],
   "source": [
    "'''Criando uma matriz para o dataset'''\n",
    "\n",
    "matriz = []\n",
    "for i in range(len(df_limpo)):\n",
    "    # Converte a linha i do DataFrame para uma lista\n",
    "    linha = df_limpo.loc[i].tolist()\n",
    "    \n",
    "    # Adiciona a linha na matriz\n",
    "    matriz.append(linha)"
   ]
  },
  {
   "cell_type": "markdown",
   "metadata": {
    "id": "hW8bQraVakw8"
   },
   "source": [
    "## Algoritmo genético"
   ]
  },
  {
   "cell_type": "markdown",
   "metadata": {},
   "source": [
    "**Observação**:\n",
    "O algoritmo genético, em questão, possui como população inicial uma população artificial criada artificialmente com base nas propriedades dos materiais do dataset original. Por isso, foi necessário a criação de limites para validar a miníma viabilidade dos indivíduos de cada geração. "
   ]
  },
  {
   "cell_type": "markdown",
   "metadata": {},
   "source": [
    "### Definindo limites dos genes"
   ]
  },
  {
   "cell_type": "markdown",
   "metadata": {},
   "source": [
    "Para definir os limites dos valores dos genes da população inicial artificial, foi utilizado o menor e maior valor de cada propriedade, ou seja, foi percorrido cada linha das colunas buscando o menor e o maior valor de cada coluna."
   ]
  },
  {
   "cell_type": "code",
   "execution_count": 6,
   "metadata": {
    "id": "hZ30JcQLRIPp"
   },
   "outputs": [],
   "source": [
    "'''Definindo limites'''\n",
    "\n",
    "# Inicialização de listas para armazenar os valores máximos e mínimos\n",
    "su = []\n",
    "sy = []\n",
    "e = []\n",
    "g = []\n",
    "ro = []\n",
    "\n",
    "# Coletando valores máximos e mínimos da coluna 'Su'\n",
    "su.append((max(df_limpo['Su'])))  # Adiciona o valor máximo da coluna 'Su' à lista 'su'\n",
    "su.append((min(df_limpo['Su'])))  # Adiciona o valor mínimo da coluna 'Su' à lista 'su'\n",
    "\n",
    "# Coletando valores máximos e mínimos da coluna 'Sy'\n",
    "sy.append(max(df_limpo['Sy']))  # Adiciona o valor máximo da coluna 'Sy' à lista 'sy'\n",
    "sy.append(min(df_limpo['Sy']))  # Adiciona o valor mínimo da coluna 'Sy' à lista 'sy'\n",
    "\n",
    "# Coletando valores máximos e mínimos da coluna 'E'\n",
    "e.append((max(df_limpo['E'])))  # Adiciona o valor máximo da coluna 'E' à lista 'e'\n",
    "e.append((min(df_limpo['E'])))  # Adiciona o valor mínimo da coluna 'E' à lista 'e'\n",
    "\n",
    "# Coletando valores máximos e mínimos da coluna 'G'\n",
    "g.append((max(df_limpo['G'])))  # Adiciona o valor máximo da coluna 'G' à lista 'g'\n",
    "g.append((min(df_limpo['G'])))  # Adiciona o valor mínimo da coluna 'G' à lista 'g'\n",
    "\n",
    "# Coletando valores máximos e mínimos da coluna 'Ro'\n",
    "ro.append((max(df_limpo['Ro'])))  # Adiciona o valor máximo da coluna 'Ro' à lista 'ro'\n",
    "ro.append((min(df_limpo['Ro'])))  # Adiciona o valor mínimo da coluna 'Ro' à lista 'ro'\n",
    "\n",
    "# Combinando todas as listas de valores máximos e mínimos em uma lista única\n",
    "min_max = [su, sy, e, g, ro]\n"
   ]
  },
  {
   "cell_type": "markdown",
   "metadata": {},
   "source": [
    "### Função objetivo"
   ]
  },
  {
   "cell_type": "markdown",
   "metadata": {},
   "source": [
    "Para avaliar o quão bom é o material, ou seja, avaliar a proporção de **resistência** e **peso** de cada material, foi feita uma função objetivo em que quão melhor a resistência e menor o peso, maior a pontuação do material. Assim, cada propriedade representa um termo, sendo que todas as propriedades sem ser a densidade possuem contribuições positiva e a densidade possui uma contribuição negativa, além disso, cada termo foi 'normalizado' usando o maior valor de densidade, evitando valores muito altos.\n",
    "\n"
   ]
  },
  {
   "cell_type": "markdown",
   "metadata": {},
   "source": [
    "$$\n",
    "f(\\text{UTS}, \\text{YS}, E, G, \\rho) = w_1 \\cdot \\frac{\\text{UTS}}{\\rho} + w_2 \\cdot \\frac{\\text{YS}}{\\rho} + w_3 \\cdot \\frac{E}{\\rho} + w_4 \\cdot \\frac{G}{\\rho} - w_5 \\cdot \\rho\n",
    "$$\n"
   ]
  },
  {
   "cell_type": "markdown",
   "metadata": {},
   "source": [
    "- UTS representa a Ultimate Tensile Strength (resistência à tração máxima);\n",
    "- YS representa a Yield Strength (resistência ao escoamento);\n",
    "- E representa o Young's Modulus (módulo de elasticidade);\n",
    "- G representa o Shear Modulus (módulo de cisalhamento);\n",
    "- ρ representa a densidade do material;\n",
    "- Os w representam o peso de cada termo."
   ]
  },
  {
   "cell_type": "markdown",
   "metadata": {},
   "source": [
    "Para definição dos pesos, foi considerado o quão importante cada propriedade seria para a criação de uma armadura:\n",
    "\n",
    "**UTS**\n",
    "\n",
    "Importância: Muito alta. A Ultimate Tensile Strength (UTS) determina a força máxima que o material pode suportar antes de falhar. Materiais com alta UTS são fundamentais para a integridade estrutural da armadura sob forças extremas.\n",
    "Peso: Definimos como 3.\n",
    "\n",
    "**YS**\n",
    "Importância: Alta. A Yield Strength (YS) indica a tensão máxima que o material pode suportar antes de deformar plasticamente. É crucial para evitar deformações permanentes que comprometam a eficácia da armadura.\n",
    "Peso: Definimos como 2.\n",
    "\n",
    "**E**\n",
    "Importância: Alta. O Módulo de Young (E) mede a rigidez do material. Materiais rígidos são importantes para manter a forma da armadura e resistir à deformação elástica.\n",
    "Peso: Definimos como 2.\n",
    "\n",
    "**G**\n",
    "Importância: Moderada a alta. O Módulo de Cisalhamento (G) é importante para resistir a forças de cisalhamento, que são comuns em impactos.\n",
    "Peso: Definimos como 1.5.\n",
    "\n",
    "**ρ**\n",
    "Importância: Alta. A densidade deve ser baixa para garantir que a armadura seja leve e fácil de usar. Um material mais leve aumenta a mobilidade e o conforto do usuário.\n",
    "Peso: Definimos como 2."
   ]
  },
  {
   "cell_type": "code",
   "execution_count": 7,
   "metadata": {
    "id": "H6QvwpWn3SX1"
   },
   "outputs": [],
   "source": [
    "# Função de avaliação para um indivíduo \n",
    "def avaliacao(individuo):\n",
    "    \"\"\"\n",
    "    Avalia a aptidão de um indivíduo baseado na formula acima.\n",
    "\n",
    "    Parâmetros:\n",
    "    individuo (list): Uma lista de valores representando um indivíduo.\n",
    "\n",
    "    Retorna:\n",
    "    float: O valor da aptidão calculada para o indivíduo.\n",
    "    \"\"\"\n",
    "    # Calcula o termo para o primeiro gene (individuo[0]), normalizado pelo quinto gene (densidade), multiplicado pelo peso 3\n",
    "    termo1 = (individuo[0] / individuo[4]) * 3\n",
    "    \n",
    "    # Calcula o termo para o segundo gene (individuo[1]), normalizado pelo quinto gene (densidade), multiplicado pelo peso 2\n",
    "    termo2 = (individuo[1] / individuo[4]) * 2\n",
    "    \n",
    "    # Calcula o termo para o terceiro gene (individuo[2]), normalizado pelo quinto gene (densidade), multiplicado pelo peso 2\n",
    "    termo3 = (individuo[2] / individuo[4]) * 2\n",
    "    \n",
    "    # Calcula o termo para o quarto gene (individuo[3]), normalizado pelo quinto gene (densidade), multiplicado pelo peso 1.5\n",
    "    termo4 = (individuo[3] / individuo[4]) * 1.5\n",
    "    \n",
    "    # Calcula o termo para o quinto gene (densidade), normalizado pelo peso ele mesmo, multiplicado pelo peso -2\n",
    "    termo5 = (individuo[4] / individuo[4]) * -2\n",
    "    \n",
    "    # Soma todos os termos para calcular a aptidão total do indivíduo\n",
    "    aptidao = termo1 + termo2 + termo3 + termo4 + termo5\n",
    "    \n",
    "    return aptidao\n"
   ]
  },
  {
   "cell_type": "markdown",
   "metadata": {},
   "source": [
    "### Linite do material"
   ]
  },
  {
   "cell_type": "markdown",
   "metadata": {},
   "source": [
    "Como optamos por utilizar materiais hipotéticos, foi necessário a definição de um limite para a função objetivo, dessa forma, evitando a geração de materiais com propriedades absurdas(indivíduos obiviamente inválidos). Dessa forma, calculamos a função objetivo para cada material do dataset original e pegamos o maior valor, ou seja, o melhor material do dataset como definidor do limite do valor da função objetivo.\n",
    "\n",
    "Limite definido: 192.66836861768368"
   ]
  },
  {
   "cell_type": "code",
   "execution_count": 8,
   "metadata": {
    "id": "iu8dOY002vO6"
   },
   "outputs": [
    {
     "name": "stdout",
     "output_type": "stream",
     "text": [
      "192.66836861768368\n"
     ]
    }
   ],
   "source": [
    "# Lista para armazenar os valores de aptidão\n",
    "val = []\n",
    "\n",
    "# Itera sobre todas as linhas do DataFrame df_limpo\n",
    "for i in range(len(df_limpo)):\n",
    "    # Converte a linha i do DataFrame para uma lista\n",
    "    individuo = df_limpo.loc[i].tolist()\n",
    "    # Avalia a aptidão do indivíduo e adiciona o valor à lista val\n",
    "    val.append(avaliacao(individuo))\n",
    "\n",
    "# Determina o valor máximo de aptidão na lista val\n",
    "limite = max(val)\n",
    "\n",
    "# Mostra o valor limite\n",
    "print(limite)\n"
   ]
  },
  {
   "cell_type": "markdown",
   "metadata": {},
   "source": [
    "## Corpo do Algoritmo genético"
   ]
  },
  {
   "cell_type": "markdown",
   "metadata": {},
   "source": [
    "Para o algoritmo genético, foi definido o número de genes correpondente ao número de features selecionadas(5), o tamanho da população como 100, o número de gerações como 5 e as taxas de mutação e cruzamento como 5% e 70% respectivamente.\n"
   ]
  },
  {
   "cell_type": "code",
   "execution_count": 9,
   "metadata": {},
   "outputs": [],
   "source": [
    "'''Algoritmo Genetico'''\n",
    "\n",
    "# Parâmetros do algoritmo genético\n",
    "num_genes = 5\n",
    "crossover_rate = 0.7\n",
    "mutation_rate = 0.05\n",
    "population_size = 100\n",
    "num_generations = 5\n"
   ]
  },
  {
   "cell_type": "markdown",
   "metadata": {},
   "source": [
    "Depois, criamos a função de geração de indivíduos(base para geração de população) em que os valores de cada gene são gerados pela função random.randint, com os limites definidos ateriormente. Ademais, para evitar a criação de indivíduos inválidos, aplicamos o filtro do limite do valor da função objetivo, caso a o indivíduo gerado passe do limite é chamada a função de forma recursiva até a geração de um indivíduo com pontuação abaixo do limite."
   ]
  },
  {
   "cell_type": "code",
   "execution_count": 10,
   "metadata": {},
   "outputs": [],
   "source": [
    "# Função de criação da população inicial\n",
    "def criando_individuo():\n",
    "    \"\"\"\n",
    "    Cria um indivíduo com genes aleatórios dentro dos intervalos especificados.\n",
    "    \n",
    "    Retorna:\n",
    "    list: Lista representando um indivíduo.\n",
    "    \"\"\"\n",
    "    Su = rd.randint(su[1], su[0])\n",
    "    Sy = rd.randint(sy[1], sy[0])\n",
    "    E = rd.randint(e[1], e[0])\n",
    "    G = rd.randint(g[1], g[0])\n",
    "    Ro = rd.randint(ro[1], ro[0])\n",
    "    individuo = [Su, Sy, E, G, Ro]\n",
    "\n",
    "    # Valida os individuos gerados\n",
    "    if avaliacao(individuo) < limite:\n",
    "        return individuo\n",
    "    else:\n",
    "        return criando_individuo() # Repetir a criação se o indivíduo não atender ao critério de avaliação"
   ]
  },
  {
   "cell_type": "markdown",
   "metadata": {},
   "source": [
    "Continuando, fizemos uma função para criação da população que recebe o número de indivíduos que desejamos que seja gerado."
   ]
  },
  {
   "cell_type": "code",
   "execution_count": 11,
   "metadata": {},
   "outputs": [],
   "source": [
    "def criando_populacao(size):\n",
    "    \"\"\"\n",
    "    Cria uma população de indivíduos.\n",
    "    \n",
    "    Parâmetros:\n",
    "    size (int): O tamanho da população.\n",
    "\n",
    "    Retorna:\n",
    "    list: Lista de indivíduos representando a população inicial.\n",
    "    \"\"\"\n",
    "    return [criando_individuo() for _ in range(size)]"
   ]
  },
  {
   "cell_type": "markdown",
   "metadata": {},
   "source": [
    "Para a função de cruzamento, foi considerado corte duplo no genoma dos pais para mistura. Sendo que aplicamos o filtro da função objetivo novamente para que não haja cruzamentos que resultem em super indivíduos, utilizamos a recurssão como solução assim como na geração de indivíduos."
   ]
  },
  {
   "cell_type": "code",
   "execution_count": 12,
   "metadata": {},
   "outputs": [],
   "source": [
    "# Função de crossover (dois pontos)\n",
    "def crossover(parent1, parent2):\n",
    "    \"\"\"\n",
    "    Realiza o crossover de dois pontos entre dois pais para gerar dois filhos.\n",
    "    \n",
    "    Parâmetros:\n",
    "    parent1 (list): Pai.\n",
    "    parent2 (list): Mãe.\n",
    "\n",
    "    Retorna:\n",
    "    tuple: Dois filhos resultantes do crossover.\n",
    "    \"\"\"\n",
    "    if rd.random() < crossover_rate:\n",
    "        point1 = rd.randint(1, num_genes - 2)\n",
    "        point2 = rd.randint(point1, num_genes - 1)\n",
    "        child1 = parent1[:point1] + parent2[point1:point2] + parent1[point2:]\n",
    "        child2 = parent2[:point1] + parent1[point1:point2] + parent2[point2:]\n",
    "        \n",
    "        # Valida os filhos gerados\n",
    "        if avaliacao(child1) > limite or avaliacao(child2) > limite:\n",
    "            return crossover(parent1, parent2)  # Repetir o crossover se a avaliação não for adequada\n",
    "        else:\n",
    "            return child1, child2\n",
    "    else:\n",
    "        return parent1, parent2\n"
   ]
  },
  {
   "cell_type": "markdown",
   "metadata": {},
   "source": [
    "Para a função de mutação, utilizamos a mutação sucessiva(aplica a probabilidade de mutação para cada gene). E da mesma forma que o cruzamento, foi aplicado um filtro na pontuação de cada indivíduo após a mutação, caso passe, a função é chamada novamente."
   ]
  },
  {
   "cell_type": "code",
   "execution_count": 13,
   "metadata": {},
   "outputs": [],
   "source": [
    "# Função de mutação (flip bit)\n",
    "def mutacao(individual):\n",
    "    \"\"\"\n",
    "    Realiza a mutação em um indivíduo.\n",
    "    \n",
    "    Parâmetros:\n",
    "    individual (list): O indivíduo a ser mutado.\n",
    "    \"\"\"\n",
    "    mutante = individual[:]\n",
    "    for i in range(num_genes):\n",
    "        if rd.random() < mutation_rate:\n",
    "            mutante[i] = rd.randint(min_max[i][1], min_max[i][0])\n",
    "    \n",
    "    # Validar o indivíduo mutado\n",
    "    if avaliacao(mutante) > limite:\n",
    "        mutacao(individual)  # Repetir a mutação se a avaliação não for adequada\n",
    "    else:\n",
    "        individual[:] = mutante"
   ]
  },
  {
   "cell_type": "markdown",
   "metadata": {},
   "source": [
    "Para seleção de pais, utilizamos o método de torneio. "
   ]
  },
  {
   "cell_type": "code",
   "execution_count": 14,
   "metadata": {},
   "outputs": [],
   "source": [
    "# Função de seleção dos pais (torneio)\n",
    "def selecao_de_pais(population, k=3):\n",
    "    \"\"\"\n",
    "    Seleciona pais usando o método de torneio.\n",
    "    \n",
    "    Parâmetros:\n",
    "    population (list): A população atual.\n",
    "    k (int): O tamanho do torneio.\n",
    "\n",
    "    Retorna:\n",
    "    list: Lista de pais selecionados.\n",
    "    \"\"\"\n",
    "    selected = []\n",
    "    for _ in range(len(population)):\n",
    "        tournament = rd.sample(population, k)\n",
    "        best = max(tournament, key=avaliacao)\n",
    "        selected.append(best)\n",
    "    return selected"
   ]
  },
  {
   "cell_type": "markdown",
   "metadata": {},
   "source": [
    "Abaixo, temos a execução do algoritmo genético com o retorno da população final, do melhor indivíduo da população final e a sua pontuação"
   ]
  },
  {
   "cell_type": "code",
   "execution_count": 15,
   "metadata": {
    "id": "4orADLWYaols"
   },
   "outputs": [],
   "source": [
    "# Função principal do algoritmo genético\n",
    "def genetic_algorithm():\n",
    "    \"\"\"\n",
    "    Executa o algoritmo genético para otimizar a população.\n",
    "\n",
    "    Retorna:\n",
    "    tuple: O melhor valor de aptidão, o melhor indivíduo e a última população.\n",
    "    \"\"\"\n",
    "    population = criando_populacao(population_size)\n",
    "\n",
    "    for generation in range(num_generations):\n",
    "        # Avaliar a população\n",
    "        population = sorted(population, key=avaliacao, reverse=True)\n",
    "\n",
    "        # Seleção\n",
    "        selected_parents = selecao_de_pais(population)\n",
    "\n",
    "        # Crossover\n",
    "        next_generation = []\n",
    "        for i in range(0, population_size, 2):\n",
    "            parent1 = selected_parents[i]\n",
    "            parent2 = selected_parents[i + 1]\n",
    "            child1, child2 = crossover(parent1, parent2)\n",
    "            next_generation.extend([child1, child2])\n",
    "\n",
    "        # Mutação\n",
    "        for individual in next_generation:\n",
    "            mutacao(individual)\n",
    "\n",
    "        # Substituição\n",
    "        population = next_generation\n",
    "\n",
    "    # Obter o melhor indivíduo\n",
    "    last_population = population\n",
    "    best_individual = max(population, key=avaliacao)\n",
    "    best_value = avaliacao(best_individual)\n",
    "    return best_value, best_individual, last_population\n"
   ]
  },
  {
   "cell_type": "markdown",
   "metadata": {},
   "source": [
    "# Resultado"
   ]
  },
  {
   "cell_type": "markdown",
   "metadata": {},
   "source": [
    "Por fim, calculamos a distância de Manhattan de cada indivíduo da população final em relação a todos os materiais do dataframe tratado e printamos a menor distância em relação aos materiais do dataset original para cada indivíduo."
   ]
  },
  {
   "cell_type": "code",
   "execution_count": 16,
   "metadata": {
    "id": "S-x5yFr_A1UD"
   },
   "outputs": [
    {
     "name": "stdout",
     "output_type": "stream",
     "text": [
      "A menor distância do indivíduo 0 foi 57199\n",
      "A menor distância do indivíduo 1 foi 57425\n",
      "A menor distância do indivíduo 2 foi 57308\n",
      "A menor distância do indivíduo 3 foi 57308\n",
      "A menor distância do indivíduo 4 foi 57308\n",
      "A menor distância do indivíduo 5 foi 57308\n",
      "A menor distância do indivíduo 6 foi 134906\n",
      "A menor distância do indivíduo 7 foi 63606\n",
      "A menor distância do indivíduo 8 foi 140683\n",
      "A menor distância do indivíduo 9 foi 57596\n",
      "A menor distância do indivíduo 10 foi 56386\n",
      "A menor distância do indivíduo 11 foi 140864\n",
      "A menor distância do indivíduo 12 foi 274188\n",
      "A menor distância do indivíduo 13 foi 57128\n",
      "A menor distância do indivíduo 14 foi 17633\n",
      "A menor distância do indivíduo 15 foi 213494\n",
      "A menor distância do indivíduo 16 foi 274188\n",
      "A menor distância do indivíduo 17 foi 53255\n",
      "A menor distância do indivíduo 18 foi 57308\n",
      "A menor distância do indivíduo 19 foi 57199\n",
      "A menor distância do indivíduo 20 foi 57308\n",
      "A menor distância do indivíduo 21 foi 57308\n",
      "A menor distância do indivíduo 22 foi 150142\n",
      "A menor distância do indivíduo 23 foi 274188\n",
      "A menor distância do indivíduo 24 foi 139127\n",
      "A menor distância do indivíduo 25 foi 134871\n",
      "A menor distância do indivíduo 26 foi 140283\n",
      "A menor distância do indivíduo 27 foi 36868\n",
      "A menor distância do indivíduo 28 foi 151931\n",
      "A menor distância do indivíduo 29 foi 57245\n",
      "A menor distância do indivíduo 30 foi 57368\n",
      "A menor distância do indivíduo 31 foi 140770\n",
      "A menor distância do indivíduo 32 foi 57308\n",
      "A menor distância do indivíduo 33 foi 57308\n",
      "A menor distância do indivíduo 34 foi 63606\n",
      "A menor distância do indivíduo 35 foi 60340\n",
      "A menor distância do indivíduo 36 foi 57308\n",
      "A menor distância do indivíduo 37 foi 57308\n",
      "A menor distância do indivíduo 38 foi 57566\n",
      "A menor distância do indivíduo 39 foi 57308\n",
      "A menor distância do indivíduo 40 foi 213494\n",
      "A menor distância do indivíduo 41 foi 57425\n",
      "A menor distância do indivíduo 42 foi 56926\n",
      "A menor distância do indivíduo 43 foi 57199\n",
      "A menor distância do indivíduo 44 foi 57414\n",
      "A menor distância do indivíduo 45 foi 57308\n",
      "A menor distância do indivíduo 46 foi 274933\n",
      "A menor distância do indivíduo 47 foi 57732\n",
      "A menor distância do indivíduo 48 foi 140764\n",
      "A menor distância do indivíduo 49 foi 57308\n",
      "A menor distância do indivíduo 50 foi 140790\n",
      "A menor distância do indivíduo 51 foi 57308\n",
      "A menor distância do indivíduo 52 foi 60340\n",
      "A menor distância do indivíduo 53 foi 57308\n",
      "A menor distância do indivíduo 54 foi 57245\n",
      "A menor distância do indivíduo 55 foi 57308\n",
      "A menor distância do indivíduo 56 foi 57566\n",
      "A menor distância do indivíduo 57 foi 57308\n",
      "A menor distância do indivíduo 58 foi 57485\n",
      "A menor distância do indivíduo 59 foi 57308\n",
      "A menor distância do indivíduo 60 foi 140790\n",
      "A menor distância do indivíduo 61 foi 57308\n",
      "A menor distância do indivíduo 62 foi 57308\n",
      "A menor distância do indivíduo 63 foi 57128\n",
      "A menor distância do indivíduo 64 foi 57308\n",
      "A menor distância do indivíduo 65 foi 57680\n",
      "A menor distância do indivíduo 66 foi 57308\n",
      "A menor distância do indivíduo 67 foi 57566\n",
      "A menor distância do indivíduo 68 foi 57245\n",
      "A menor distância do indivíduo 69 foi 140283\n",
      "A menor distância do indivíduo 70 foi 57308\n",
      "A menor distância do indivíduo 71 foi 57308\n",
      "A menor distância do indivíduo 72 foi 57732\n",
      "A menor distância do indivíduo 73 foi 274824\n",
      "A menor distância do indivíduo 74 foi 57308\n",
      "A menor distância do indivíduo 75 foi 57308\n",
      "A menor distância do indivíduo 76 foi 140864\n",
      "A menor distância do indivíduo 77 foi 57128\n",
      "A menor distância do indivíduo 78 foi 275755\n",
      "A menor distância do indivíduo 79 foi 56386\n",
      "A menor distância do indivíduo 80 foi 108059\n",
      "A menor distância do indivíduo 81 foi 57308\n",
      "A menor distância do indivíduo 82 foi 57308\n",
      "A menor distância do indivíduo 83 foi 57414\n",
      "A menor distância do indivíduo 84 foi 57128\n",
      "A menor distância do indivíduo 85 foi 274188\n",
      "A menor distância do indivíduo 86 foi 57308\n",
      "A menor distância do indivíduo 87 foi 57308\n",
      "A menor distância do indivíduo 88 foi 134906\n",
      "A menor distância do indivíduo 89 foi 140790\n",
      "A menor distância do indivíduo 90 foi 57308\n",
      "A menor distância do indivíduo 91 foi 274188\n",
      "A menor distância do indivíduo 92 foi 57308\n",
      "A menor distância do indivíduo 93 foi 212472\n",
      "A menor distância do indivíduo 94 foi 57245\n",
      "A menor distância do indivíduo 95 foi 57308\n",
      "A menor distância do indivíduo 96 foi 57407\n",
      "A menor distância do indivíduo 97 foi 57414\n",
      "A menor distância do indivíduo 98 foi 57308\n",
      "A menor distância do indivíduo 99 foi 57128\n",
      "Análise dos valores internos do dataset\n",
      "Média:92768.68\n",
      "Desvio padrão:66424.99973532255\n",
      "Moda:57308\n",
      "Mediana:57308.0\n",
      "Máximo:17633\n",
      "Minimo:275755\n"
     ]
    }
   ],
   "source": [
    "'''Comparando as dados gerados pelo algoritmo genetico e o dataset'''\n",
    "\n",
    "# Comparando com a última população gerada pelo algoritmo genético\n",
    "best_value, best_individual, last_population = genetic_algorithm()\n",
    "distancias_algoritmo = distancia_manhattan(last_population, df_limpo)\n",
    "distancias_entre_si = distancia_manhattan(matriz, df_limpo)\n",
    "\n",
    "# Exibindo as distâncias de Manhattan entre o dataset e os dados da matriz\n",
    "for i, dists in enumerate(distancias_algoritmo):\n",
    "    print(f\"A menor distância do indivíduo {i} foi {min(dists)}\")\n",
    "    \n",
    "# Pegando os menores valores de distância dentro do proprio dataset\n",
    "valores_distancias = []\n",
    "for i, dists in enumerate(distancias_algoritmo):\n",
    "    valores_distancias.append(min(dists))\n",
    "    \n",
    "print('Análise dos valores internos do dataset')\n",
    "print(f'Média:{st.mean(valores_distancias)}')\n",
    "print(f'Desvio padrão:{st.pstdev(valores_distancias)}')\n",
    "print(f'Moda:{st.mode(valores_distancias)}')\n",
    "print(f'Mediana:{st.median(valores_distancias)}')\n",
    "print(f'Máximo:{min(valores_distancias)}')\n",
    "print(f'Minimo:{max(valores_distancias)}')"
   ]
  },
  {
   "cell_type": "markdown",
   "metadata": {},
   "source": [
    "# Conclusão"
   ]
  },
  {
   "cell_type": "markdown",
   "metadata": {},
   "source": [
    "Como resultado da nossa proposta, obtivemos materiais hipotéticos com pontuações muito boas em comparação aos materiais do dataset original, porém a proporção dos valores dos gene foi muito descrepante, apresentando uma grande distância em relação aos materiais do dataset. Ou seja, os indivíduos da população final alcançaram uma boa pontuação, mas como não houve um filtro de máximo e mínimo para cada propriedade ao decorrer das gerações, ocorreu a geração valores de gene muito desporporcionais ou/e absurdos para as propriedades em questão."
   ]
  },
  {
   "cell_type": "markdown",
   "metadata": {},
   "source": [
    "# Referências\n",
    "## Datasets\n",
    "[1]NAWALE, Purushottam. Materials and their Mechanical Properties. 2023. Disponível em: https://www.kaggle.com/datasets/purushottamnawale/materials. Acesso em: 28 maio 2024.\n",
    "\n",
    "## Literatura \n",
    "[1] LOURENÇO, Hévila. Aprendizado de Máquinas - Algoritmos Genéticos. 2023. Disponível em: https://www.youtube.com/watch?v=tfPYwaNkI7o. Acesso em: 28 maio 2024.\n",
    "\n",
    "[2] Cassar, Daniel(2024). ATP-303 GA 2.3 - Notebook algoritmo genético.ipynb. Retirado do repositório da matéria Redes Neurais e Algoritimos Genéticos da ILUM - Escola de Ciência.\n",
    "\n",
    "[3] Cassar, Daniel(2024). ATP-303 GA 3.3 - Notebook caixas não-binárias.ipynb. Retirado do repositório da matéria Redes Neurais e Algoritimos Genéticos da ILUM - Escola de Ciência.\n",
    "\n",
    "## Bibliotecas e Módulos\n",
    "[1] PYTHON Software Foundation. Statistics — Mathematical statistics functions. Python 3.12.3 documentation, 2023. Disponível em: https://docs.python.org/3/library/statistics.html. Acesso em: 28 maio 2024.\n",
    "\n",
    "[2] PYDATA. pandas — Python Data Analysis Library. pandas.pydata.org, 2024. Disponível em: https://pandas.pydata.org/. Acesso em: 28 maio 2024.\n",
    "\n",
    "[3] PYTHON Software Foundation. random — Generate pseudo-random numbers. Python 3.12.3 documentation, 2023. Disponível em: https://docs.python.org/3/library/random.html. Acesso em: 28 maio 2024.\n"
   ]
  },
  {
   "cell_type": "code",
   "execution_count": null,
   "metadata": {},
   "outputs": [],
   "source": []
  }
 ],
 "metadata": {
  "colab": {
   "provenance": []
  },
  "kernelspec": {
   "display_name": "ilumpy",
   "language": "python",
   "name": "ilumpy"
  },
  "language_info": {
   "codemirror_mode": {
    "name": "ipython",
    "version": 3
   },
   "file_extension": ".py",
   "mimetype": "text/x-python",
   "name": "python",
   "nbconvert_exporter": "python",
   "pygments_lexer": "ipython3",
   "version": "3.10.8"
  },
  "vscode": {
   "interpreter": {
    "hash": "26de051ba29f2982a8de78e945f0abaf191376122a1563185a90213a26c5da77"
   }
  }
 },
 "nbformat": 4,
 "nbformat_minor": 4
}
