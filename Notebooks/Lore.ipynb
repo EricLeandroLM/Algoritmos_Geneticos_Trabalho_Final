{
 "cells": [
  {
   "cell_type": "markdown",
   "metadata": {},
   "source": [
    "<div style=\"display: flex; justify-content: center; align-items: center;\">\n",
    "<p align=\"center\">\n",
    "<img src=\"../imagens/Capa_c.jpeg\" style=\"width:250px;height:250px\" alt='imagem do daniel'>\n",
    "</p>\n",
    "\n",
    "<div style=\"margin-left: 20px;\">\n",
    "<h1 style=\"font-family: times new roman;\">DreamCoders</h1>\n",
    "<p style=\"margin-bottom: 5px;\">Trabalho Final de Redes Neurais</p>\n",
    "<p style=\"margin-bottom: 5px;\">INTEGRANTES: Eric Leandro e Samuel Araujo </p>\n",
    "<p style=\"margin-bottom: 5px;\">DISCIPLINA: Redes Neurais e Algoritmos Genéticos</p>\n",
    "<p style=\"margin-bottom: 5px;\">MESTRE: Daniel Cassar</p>\n",
    "\n",
    "</div>"
   ]
  },
  {
   "cell_type": "markdown",
   "metadata": {},
   "source": [
    "<style>\n",
    "  .container {\n",
    "    display: flex;\n",
    "    align-items: center;\n",
    "  }\n",
    "  .texto-left {\n",
    "    margin-left: 20px; /* Espaçamento entre a imagem e o texto */\n",
    "    margin-top: 20px; /* Espaçamento entre o texto e o texto abaixo */\n",
    "  }\n",
    "  .texto-right {\n",
    "    margin-right: 20px; /* Espaçamento entre a imagem e o texto */\n",
    "    margin-top: 20px; /* Espaçamento entre o texto e o texto abaixo */\n",
    "  }\n",
    "  .imagem_lado {\n",
    "    max-width: 300px;\n",
    "    height: auto;\n",
    "    margin-top: 20px; /* Espaçamento entre a imagem e o texto acima */\n",
    "  }\n",
    "  .imagem_meio {\n",
    "    max-width: 500px;\n",
    "    height: auto;\n",
    "    margin-top: 10px;\n",
    "    align-items: center;\n",
    "\n",
    "  }\n",
    "  .texto-abaixo {\n",
    "    margin-top: 20px; /* Espaçamento entre o texto e o texto abaixo */\n",
    "  }\n",
    "</style>\n",
    "\n",
    "\n",
    "<div class=\"container\">\n",
    "  <img class=\"imagem_lado\" src=\"../imagens/Drakulor.jpeg\" alt=\"imagem monstro\">\n",
    "  <div class=\"texto-left\">\n",
    "  <p>\n",
    "\n",
    "  **Lore de Drakulor:**\n",
    "\n",
    "  Nos confins do mundo, onde o oceano encontra as montanhas e o sol se põe em um espetáculo de cores ardentes, jaz a Baía dos Dragões. Este é um lugar sagrado, onde os dragões antigos, ao fim de suas vidas, voavam para descansar e deixar seus corpos mortais se fundirem com a terra e o mar.\n",
    "\n",
    "  Por séculos, a Baía dos Dragões permaneceu intocada, um santuário onde a passagem dos grandes seres alados para o além era honrada e respeitada. No entanto, o destino sombrio começou a se desenrolar quando um mago louco, consumido pela sede de poder e conhecimento proibido, descobriu a localização secreta da Baía.\n",
    "\n",
    "  Ignorando os avisos dos sábios e das criaturas antigas que guardavam a Baía, o mago profanou o local sagrado em sua busca por segredos ocultos e tesouros esquecidos. Ele perturbou os restos mortais dos dragões, despertando o ódio e a ira dos espíritos ancestrais que habitavam ali.\n",
    "  \n",
    "  </p>\n",
    "  </div>\n",
    "</div>\n",
    "\n",
    "<div class=\"texto-abaixo\">\n",
    "  <p>\n",
    "\n",
    "  Feridos pela profanação de seu descanso eterno, os dragões mortos não encontraram a paz na morte. Em vez disso, eles se ergueram como criaturas de ossos conduzidos por uma fúria ancestral. Drakulor, o Dragão de Ossos, foi um desses seres que emergiram da Baía com um rugido de fúria e vingança.\n",
    "\n",
    "  Seus ossos eram praticamente indestrutíveis, impregnados com a magia antiga que os dragões acumularam ao longo de suas vidas imortais. Drakulor era uma força da natureza, uma tempestade de ossos e ódio que varria tudo em seu caminho.\n",
    "\n",
    "  Com um rugido que ecoava pelos céus e os mares, Drakulor espalhou o terror e a destruição por onde passava. Ele não conhecia a piedade, nem a compaixão; sua única missão era vingar-se da profanação de seu sagrado local de descanso e punir aqueles que ousaram desafiar os dragões.\n",
    "\n",
    "  Apesar de sua natureza monstruosa, há uma tragédia na história de Drakulor, uma lembrança do respeito e da honra que um dia foram mostrados aos dragões antigos. Agora, ele é uma lembrança viva do perigo de perturbar os mortos e desafiar os antigos poderes que governam o mundo.\n",
    "\n",
    "  </p>\n",
    "</div>\n"
   ]
  },
  {
   "cell_type": "markdown",
   "metadata": {},
   "source": []
  }
 ],
 "metadata": {
  "kernelspec": {
   "display_name": "Python 3.10.8 64-bit",
   "language": "python",
   "name": "python3"
  },
  "language_info": {
   "name": "python",
   "version": "3.10.8"
  },
  "orig_nbformat": 4,
  "vscode": {
   "interpreter": {
    "hash": "26de051ba29f2982a8de78e945f0abaf191376122a1563185a90213a26c5da77"
   }
  }
 },
 "nbformat": 4,
 "nbformat_minor": 2
}
