{
 "cells": [
  {
   "cell_type": "markdown",
   "metadata": {},
   "source": [
    "<div style=\"display: flex; justify-content: center; align-items: center;\">\n",
    "<p align=\"center\">\n",
    "<img src=\"../imagens/Capa_lore.jpg\" style=\"width:250px;height:250px\" alt='imagem do daniel'>\n",
    "</p>\n",
    "\n",
    "<div style=\"margin-left: 20px;\">\n",
    "<h1 style=\"font-family: times new roman;\">DreamCoders</h1>\n",
    "<p style=\"margin-bottom: 5px;\">Trabalho Final de Redes Neurais</p>\n",
    "<p style=\"margin-bottom: 5px;\">INTEGRANTES: Eric Leandro e Samuel Araujo </p>\n",
    "<p style=\"margin-bottom: 5px;\">DISCIPLINA: Redes Neurais e Algoritmos Genéticos</p>\n",
    "<p style=\"margin-bottom: 5px;\">MESTRE: Daniel Cassar</p>\n",
    "\n",
    "</div>"
   ]
  },
  {
   "cell_type": "markdown",
   "metadata": {},
   "source": [
    "<h1> Chefe final: Drakulor, o Dragão de Ossos </h1>"
   ]
  },
  {
   "cell_type": "markdown",
   "metadata": {},
   "source": [
    "<style>\n",
    "  .container {\n",
    "    display: flex;\n",
    "    align-items: center;\n",
    "  }\n",
    "  .texto-left {\n",
    "    margin-left: 20px; /* Espaçamento entre a imagem e o texto */\n",
    "    margin-top: 20px; /* Espaçamento entre o texto e o texto abaixo */\n",
    "  }\n",
    "  .texto-right {\n",
    "    margin-right: 20px; /* Espaçamento entre a imagem e o texto */\n",
    "    margin-top: 20px; /* Espaçamento entre o texto e o texto abaixo */\n",
    "  }\n",
    "  .imagem_lado {\n",
    "    max-width: 300px;\n",
    "    height: auto;\n",
    "    margin-top: 20px; /* Espaçamento entre a imagem e o texto acima */\n",
    "  }\n",
    "  .imagem_meio {\n",
    "    max-width: 500px;\n",
    "    height: auto;\n",
    "    margin-top: 10px;\n",
    "    align-items: center;\n",
    "\n",
    "  }\n",
    "  .texto-abaixo {\n",
    "    margin-top: 20px; /* Espaçamento entre o texto e o texto abaixo */\n",
    "  }\n",
    "</style>\n",
    "\n",
    "\n",
    "<div class=\"container\">\n",
    "  <img class=\"imagem_lado\" src=\"../imagens/Drakulor.jpeg\" alt=\"imagem monstro\">\n",
    "  <div class=\"texto-left\">\n",
    "  <p>\n",
    "\n",
    "  **Lore de Nesol:**\n",
    "\n",
    "  Nesol começou sua jornada como um talentoso mago em um reino próspero, onde a magia era respeitada e estudada. Sua sede de conhecimento e poder era insaciável, e ele rapidamente superou seus colegas e mestres em habilidades arcanas. Fascinado pela ideia de imortalidade, Nesol mergulhou nos estudos de magia negra, acreditando que a morte era uma limitação que ele podia e devia superar.\n",
    "\n",
    "  A busca pela imortalidade levou Nesol a realizar experimentos cada vez mais sombrios. Ele começou a capturar e sacrificar criaturas mágicas, acreditando que seus espíritos poderiam ser usados para prolongar sua própria vida. Com o tempo, seus experimentos passaram a incluir humanos, atraindo a atenção indesejada das autoridades mágicas e levando-o a ser expulso de seu reino.\n",
    "\n",
    "  Perseguido, Nesol fugiu para terras distantes, onde os reinos eram mais fragmentados e a vigilância mágica, mais fraca. Durante séculos, ele viajou de um reino para outro, adaptando-se a diferentes culturas e épocas, sempre continuando seus experimentos macabros em segredo. Ele aprendeu a manipular a vida e a morte, criando horrores inomináveis em seu caminho. Cada falha o tornava mais obcecado, mais determinado a vencer a mortalidade.\n",
    "  </p>\n",
    "  </div>\n",
    "</div>\n",
    "\n",
    "<div class=\"texto-abaixo\">\n",
    "  <p>\n",
    "\n",
    "  Após séculos de pesquisa e incontáveis experimentos, Nesol encontrou a chave para a imortalidade: transformar-se em um lich. Ele preparou um ritual complexo, que envolvia sacrifícios humanos e o uso de poderosos artefatos arcanos. No auge do ritual, Nesol consumiu sua própria vida e alma, vinculando-se a um filactério, um receptáculo onde sua alma estaria eternamente segura, tornando-se imortal.\n",
    "\n",
    "  Agora um lich, Nesol se tornou uma figura de terror, seu corpo um cadáver animado, preservado por forças arcanas. Ele estabeleceu sua base em ruínas antigas, de onde expandiu seu poder, controlando exércitos de mortos-vivos e subjugando reinos inteiros, isso tudo por trás dos panos. Sua obsessão por poder e conhecimento não diminuiu; pelo contrário, ele se tornou ainda mais perigoso e ambicioso, usando sua imortalidade para planejar e executar experimentos ainda mais macabros.\n",
    "\n",
    "  </p>\n",
    "</div>\n"
   ]
  },
  {
   "cell_type": "markdown",
   "metadata": {},
   "source": []
  }
 ],
 "metadata": {
  "kernelspec": {
   "display_name": "Python 3.10.8 64-bit",
   "language": "python",
   "name": "python3"
  },
  "language_info": {
   "name": "python",
   "version": "3.10.8"
  },
  "orig_nbformat": 4,
  "vscode": {
   "interpreter": {
    "hash": "26de051ba29f2982a8de78e945f0abaf191376122a1563185a90213a26c5da77"
   }
  }
 },
 "nbformat": 4,
 "nbformat_minor": 2
}
